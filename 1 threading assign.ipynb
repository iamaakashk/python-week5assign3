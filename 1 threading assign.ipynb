{
 "cells": [
  {
   "cell_type": "code",
   "execution_count": 1,
   "id": "f060026a-1f8d-4910-ba3f-09636ebe376c",
   "metadata": {},
   "outputs": [],
   "source": [
    "#q1"
   ]
  },
  {
   "cell_type": "code",
   "execution_count": 2,
   "id": "a3326ac4-1fe1-4407-8b50-988d8c4fde48",
   "metadata": {},
   "outputs": [
    {
     "data": {
      "text/plain": [
       "' in octacore or quadcore etc. jab single core me i want to do multiple processes then it is done by threading\\none program is made and that executed with diff inputs.'"
      ]
     },
     "execution_count": 2,
     "metadata": {},
     "output_type": "execute_result"
    }
   ],
   "source": [
    "\"\"\" in octacore or quadcore etc. jab single core me i want to do multiple processes then it is done by threading\n",
    "one program is made and that executed with diff inputs.\"\"\""
   ]
  },
  {
   "cell_type": "code",
   "execution_count": 3,
   "id": "607ba3b0-bd0c-4031-8373-0146f5b0d8e7",
   "metadata": {},
   "outputs": [
    {
     "data": {
      "text/plain": [
       "'when there are multiple core system and  multiple processes are done in single core then the \\nprogram is made and executed with diff. inputs , it is used to enhance the performance or the responsiveness\\nwithin the execution , module name is THREADING \"IMPORT THREADING\" '"
      ]
     },
     "execution_count": 3,
     "metadata": {},
     "output_type": "execute_result"
    }
   ],
   "source": [
    "\"\"\"when there are multiple core system and  multiple processes are done in single core then the \n",
    "program is made and executed with diff. inputs , it is used to enhance the performance or the responsiveness\n",
    "within the execution , module name is THREADING \"IMPORT THREADING\" \"\"\""
   ]
  },
  {
   "cell_type": "code",
   "execution_count": 4,
   "id": "2e3b6c81-2a52-45ff-b032-6cdb8b1bc7ef",
   "metadata": {},
   "outputs": [],
   "source": [
    "#q2"
   ]
  },
  {
   "cell_type": "code",
   "execution_count": 5,
   "id": "9f6f32e9-ac32-463f-a682-982bbcd03ab2",
   "metadata": {},
   "outputs": [
    {
     "data": {
      "text/plain": [
       "\"The threading module in Python allows multiple threads of execution to take place in a Python program. \\nThe following functions are used in the threading module: \\nactiveCount(): Returns the number of thread objects that are active. This number includes the main thread, \\nso it will always be greater than or equal to one.\\ncurrentThread(): Returns the number of thread objects in the caller's thread control.\\nenumerate(): Returns a list of all thread objects that are currently active. \\nThis list includes daemonic threads, dummy thread objects created by current_thread(), and the main thread.\\nIt excludes terminated threads and threads that have not yet been started.\""
      ]
     },
     "execution_count": 5,
     "metadata": {},
     "output_type": "execute_result"
    }
   ],
   "source": [
    "\"\"\"The threading module in Python allows multiple threads of execution to take place in a Python program. \n",
    "The following functions are used in the threading module: \n",
    "activeCount(): Returns the number of thread objects that are active. This number includes the main thread, \n",
    "so it will always be greater than or equal to one.\n",
    "currentThread(): Returns the number of thread objects in the caller's thread control.\n",
    "enumerate(): Returns a list of all thread objects that are currently active. \n",
    "This list includes daemonic threads, dummy thread objects created by current_thread(), and the main thread.\n",
    "It excludes terminated threads and threads that have not yet been started.\"\"\""
   ]
  },
  {
   "cell_type": "code",
   "execution_count": 6,
   "id": "fcca89e6-556e-4eaf-886b-5b410496466c",
   "metadata": {},
   "outputs": [],
   "source": [
    "#q3"
   ]
  },
  {
   "cell_type": "code",
   "execution_count": 7,
   "id": "fe88e31f-f876-40da-b749-c635cd0be17e",
   "metadata": {},
   "outputs": [
    {
     "data": {
      "text/plain": [
       "'\\nrun()\\n- The run() method is the entry point for a thread. It is the method that will be executed when the thread starts.\\n\\nstart()\\n- The start() method starts a thread. When a thread is started, it begins executing its run() method.\\n\\njoin()\\n- The join() method waits for a thread to die. When a thread dies, it is no longer executing its run() method.\\nThe join() method will block the calling thread until the thread that is being joined has died.\\n\\nisAlive()\\n- The isAlive() method returns true if a thread is alive, and false if it is dead.\\nA thread is considered alive if it has been started and has not yet died.\\n\\n'"
      ]
     },
     "execution_count": 7,
     "metadata": {},
     "output_type": "execute_result"
    }
   ],
   "source": [
    "\"\"\"\n",
    "run()\n",
    "- The run() method is the entry point for a thread. It is the method that will be executed when the thread starts.\n",
    "\n",
    "start()\n",
    "- The start() method starts a thread. When a thread is started, it begins executing its run() method.\n",
    "\n",
    "join()\n",
    "- The join() method waits for a thread to die. When a thread dies, it is no longer executing its run() method.\n",
    "The join() method will block the calling thread until the thread that is being joined has died.\n",
    "\n",
    "isAlive()\n",
    "- The isAlive() method returns true if a thread is alive, and false if it is dead.\n",
    "A thread is considered alive if it has been started and has not yet died.\n",
    "\n",
    "\"\"\""
   ]
  },
  {
   "cell_type": "code",
   "execution_count": 8,
   "id": "660ec529-e594-4fda-bc50-fd42f62d9e1c",
   "metadata": {},
   "outputs": [],
   "source": [
    "#q4"
   ]
  },
  {
   "cell_type": "code",
   "execution_count": 19,
   "id": "a6fab434-e1f9-45d5-b8a9-3e50864df070",
   "metadata": {},
   "outputs": [
    {
     "name": "stdout",
     "output_type": "stream",
     "text": [
      "Square: 400\n",
      "Cube: 8000\n"
     ]
    }
   ],
   "source": [
    "import threading\n",
    "\n",
    "\n",
    "def print_cube(num):\n",
    "\tprint(\"Cube: {}\" .format(num * num * num))\n",
    "\n",
    "\n",
    "def print_square(num):\n",
    "\tprint(\"Square: {}\" .format(num * num))\n",
    "\n",
    "\n",
    "if __name__ ==\"__main__\":\n",
    "\tt1 = threading.Thread(target=print_square, args=(20,))\n",
    "\tt2 = threading.Thread(target=print_cube, args=(20,))\n",
    "\n",
    "\tt1.start()\n",
    "\tt2.start()\n",
    "\n",
    "\tt1.join()\n",
    "\tt2.join()\n",
    "\n"
   ]
  },
  {
   "cell_type": "code",
   "execution_count": 20,
   "id": "9c9b51f1-1f0c-403b-86df-5fc4084734a3",
   "metadata": {},
   "outputs": [],
   "source": [
    "#q5"
   ]
  },
  {
   "cell_type": "code",
   "execution_count": 21,
   "id": "bffadb4c-acc8-41a8-a920-583651ecf7d6",
   "metadata": {},
   "outputs": [
    {
     "data": {
      "text/plain": [
       "'advantages of multithreading :-\\n\\nPerformance\\nResource efficiency\\nMinimization of system resource usage\\nProgram structure simplification\\nCommunication'"
      ]
     },
     "execution_count": 21,
     "metadata": {},
     "output_type": "execute_result"
    }
   ],
   "source": [
    "\"\"\"advantages of multithreading :-\n",
    "\n",
    "Performance\n",
    "Resource efficiency\n",
    "Minimization of system resource usage\n",
    "Program structure simplification\n",
    "Communication\n",
    "\"\"\""
   ]
  },
  {
   "cell_type": "code",
   "execution_count": 22,
   "id": "c4c4d371-0df2-4529-965e-a77f71eaf35b",
   "metadata": {},
   "outputs": [
    {
     "data": {
      "text/plain": [
       "'disadvantages of multithreading :-\\n\\nComplex debugging and testing processes\\nUnpredictable results\\nOverhead switching of context\\nIncreased potential for deadlock occurrence\\nIncreased difficulty level in writing a program\\nIncreased complexity\\nHigher memory consumption\\nPotential for race conditions\\nDifficulty in predicting thread execution order\\n'"
      ]
     },
     "execution_count": 22,
     "metadata": {},
     "output_type": "execute_result"
    }
   ],
   "source": [
    "\"\"\"disadvantages of multithreading :-\n",
    "\n",
    "Complex debugging and testing processes\n",
    "Unpredictable results\n",
    "Overhead switching of context\n",
    "Increased potential for deadlock occurrence\n",
    "Increased difficulty level in writing a program\n",
    "Increased complexity\n",
    "Higher memory consumption\n",
    "Potential for race conditions\n",
    "Difficulty in predicting thread execution order\n",
    "\"\"\""
   ]
  },
  {
   "cell_type": "code",
   "execution_count": 23,
   "id": "e2967a9d-80d2-4ba0-bab8-069406b2e8ae",
   "metadata": {},
   "outputs": [],
   "source": [
    "#q6"
   ]
  },
  {
   "cell_type": "code",
   "execution_count": 24,
   "id": "fc804950-5326-4f63-97b7-3677e9d9613c",
   "metadata": {},
   "outputs": [
    {
     "data": {
      "text/plain": [
       "'\\nDeadlock\\nTwo threads try to acquire the same lock at the same time. \\nThis prevents both threads from executing functions or processing. \\nDeadlocks can occur when two threads hold locks on different resources, \\neach waiting for the other to release its lock.\\n\\nRace condition\\nMultiple threads access the same shared resource, leading to unexpected behavior. \\nRace conditions can occur when two threads use the same variable at the same time.\\nRace conditions can also occur when two or more threads alter the state of a shared resource at the same time,\\nleaving it in an unpredictable state.\\n\\n'"
      ]
     },
     "execution_count": 24,
     "metadata": {},
     "output_type": "execute_result"
    }
   ],
   "source": [
    "\"\"\"\n",
    "Deadlock\n",
    "Two threads try to acquire the same lock at the same time. \n",
    "This prevents both threads from executing functions or processing. \n",
    "Deadlocks can occur when two threads hold locks on different resources, \n",
    "each waiting for the other to release its lock.\n",
    "\n",
    "Race condition\n",
    "Multiple threads access the same shared resource, leading to unexpected behavior. \n",
    "Race conditions can occur when two threads use the same variable at the same time.\n",
    "Race conditions can also occur when two or more threads alter the state of a shared resource at the same time,\n",
    "leaving it in an unpredictable state.\n",
    "\n",
    "\"\"\"\n"
   ]
  },
  {
   "cell_type": "code",
   "execution_count": null,
   "id": "b3093952-fed7-48f7-b085-4b372dafb5c8",
   "metadata": {},
   "outputs": [],
   "source": []
  }
 ],
 "metadata": {
  "kernelspec": {
   "display_name": "Python 3 (ipykernel)",
   "language": "python",
   "name": "python3"
  },
  "language_info": {
   "codemirror_mode": {
    "name": "ipython",
    "version": 3
   },
   "file_extension": ".py",
   "mimetype": "text/x-python",
   "name": "python",
   "nbconvert_exporter": "python",
   "pygments_lexer": "ipython3",
   "version": "3.10.8"
  }
 },
 "nbformat": 4,
 "nbformat_minor": 5
}
